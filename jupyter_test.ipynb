{
 "cells": [
  {
   "cell_type": "code",
   "execution_count": 6,
   "metadata": {
    "collapsed": false
   },
   "outputs": [
    {
     "ename": "AttributeError",
     "evalue": "type object 'TradeStatFormula' has no attribute 'get_area_percent_by_histo_formula'",
     "traceback": [
      "\u001b[0;31m---------------------------------------------------------------------------\u001b[0m",
      "\u001b[0;31mAttributeError\u001b[0m                            Traceback (most recent call last)",
      "\u001b[0;32m<ipython-input-6-b075fcad62ff>\u001b[0m in \u001b[0;36m<module>\u001b[0;34m()\u001b[0m\n\u001b[1;32m     21\u001b[0m         0.06361767346223351, 0.07955114605952986, 0.04233284763572738]\n\u001b[1;32m     22\u001b[0m \u001b[0;34m\u001b[0m\u001b[0m\n\u001b[0;32m---> 23\u001b[0;31m \u001b[0marea_percent\u001b[0m \u001b[0;34m=\u001b[0m \u001b[0mTradeStatFormula\u001b[0m\u001b[0;34m.\u001b[0m\u001b[0mget_area_percent_by_histo_formula\u001b[0m\u001b[0;34m(\u001b[0m\u001b[0mdata\u001b[0m\u001b[0;34m,\u001b[0m \u001b[0;36m0.234\u001b[0m\u001b[0;34m)\u001b[0m\u001b[0;34m\u001b[0m\u001b[0m\n\u001b[0m\u001b[1;32m     24\u001b[0m \u001b[0mprint\u001b[0m\u001b[0;34m(\u001b[0m\u001b[0marea_percent\u001b[0m\u001b[0;34m)\u001b[0m\u001b[0;34m\u001b[0m\u001b[0m\n",
      "\u001b[0;31mAttributeError\u001b[0m: type object 'TradeStatFormula' has no attribute 'get_area_percent_by_histo_formula'"
     ],
     "output_type": "error"
    }
   ],
   "source": [
    "# 5시간\n",
    "import matplotlib.pyplot as plt\n",
    "from trader.trade_manager.trade_stat_formula import TradeStatFormula\n",
    "import scipy.stats as stats\n",
    "import seaborn as sns\n",
    "import numpy as np\n",
    "\n",
    "data = [0.719558433475031, 0.7055897893618559, 0.7036344043134828, 0.7111838302725927, 0.7651067932859879,\n",
    "        0.6477147628868232, 0.18398988214400597, 0.07869446766399778, 0.08011283509000204, 0.16791875240202062,\n",
    "        0.03746743437577971, 0.04746343437577598, 0.04046623437578091, 0.045288190864003264, 0.5284237770047737,\n",
    "        0.4674569509131834, 0.3936888334750431, 0.39793122707029105, 0.3928112302727299, 0.5605007009538473,\n",
    "        0.22596389767325017, 0.10933914118098327, 0.08854830114522483, 0.4246994447335368, 0.5882457305454533,\n",
    "        0.341453827070212, 0.38443662707018667, 0.3654096789865871, 0.06191553345487919, 0.1017778617413831,\n",
    "        0.06998917247935896, 0.21938384028982838, 0.3213610558920191, 0.3391039558919845, 0.45580725589196663,\n",
    "        0.3828364558920614, 0.3941054923292715, 0.38896627370531206, 0.19642582177207807, 0.4152122535238741,\n",
    "        0.44794267370527374, 0.44794267370527374, 0.5483966594545985, 0.5439042737053241, 0.5513425723292515,\n",
    "        0.5568990737053333, 0.440945473705302, 0.48251604235376, 0.44894227370528966, 0.4608052558919648,\n",
    "        0.4698016558918753, 0.4683022558919387, 0.42595147370530756, 0.11198730713017285, 0.14522400713033276,\n",
    "        0.19578169326995268, 0.1649661071301787, 0.2052000071303104, 0.22569180713020032, 0.22658235416561362,\n",
    "        0.08279320298023522, 0.16596570713020628, 0.19268738055337453, 0.25407135416564997, 0.27856155416565015,\n",
    "        0.06361767346223351, 0.07955114605952986, 0.04233284763572738]\n",
    "\n",
    "area_percent = TradeStatFormula.get_area_percent_by_histo_formula(data, 0.234)\n",
    "print(area_percent)\n"
   ]
  },
  {
   "cell_type": "code",
   "execution_count": 50,
   "metadata": {},
   "outputs": [],
   "source": []
  },
  {
   "cell_type": "code",
   "execution_count": null,
   "metadata": {},
   "outputs": [],
   "source": []
  }
 ],
 "metadata": {
  "kernelspec": {
   "display_name": "Python 2",
   "language": "python",
   "name": "python2"
  },
  "language_info": {
   "codemirror_mode": {
    "name": "ipython",
    "version": 2
   },
   "file_extension": ".py",
   "mimetype": "text/x-python",
   "name": "python",
   "nbconvert_exporter": "python",
   "pygments_lexer": "ipython2",
   "version": "2.7.6"
  }
 },
 "nbformat": 4,
 "nbformat_minor": 0
}
